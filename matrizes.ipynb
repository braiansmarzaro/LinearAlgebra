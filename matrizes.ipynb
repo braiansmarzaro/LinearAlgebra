{
 "cells": [
  {
   "cell_type": "code",
   "execution_count": 2,
   "metadata": {},
   "outputs": [],
   "source": [
    "import numpy as np"
   ]
  },
  {
   "cell_type": "code",
   "execution_count": 3,
   "metadata": {},
   "outputs": [],
   "source": [
    "#Criando uma matriz Python\n",
    "\n",
    "def geramatriz(l=2, c=2,rand=False,r1=0,r2=50):\n",
    "    '''\n",
    "    :param l: Linhas\n",
    "    :param c: Colunas\n",
    "    :return: A matriz gerada com o valor escolhido\n",
    "    '''\n",
    "    mat = [[0] * c for z in range(l)]\n",
    "    if rand:\n",
    "        return preenchematriz(mat, r1, r2)\n",
    "    return mat\n",
    "\n",
    "#preenchendo a matriz \n",
    "\n",
    "def preenchematriz(mat, r1=0, r2=50):\n",
    "    from random import randint\n",
    "    '''\n",
    "    :param mat: Qual matriz\n",
    "    :param r1: valor minimo\n",
    "    :param r2: valor máximo\n",
    "    :return: a matriz preenchida\n",
    "    '''\n",
    "    for j in range(len(mat[0])):\n",
    "        for k in range(len(mat)):\n",
    "            mat[k][j] = randint(r1, r2)\n",
    "    return mat"
   ]
  },
  {
   "cell_type": "code",
   "execution_count": 4,
   "metadata": {},
   "outputs": [],
   "source": [
    "#A soma de matrizes ocorre apenas entre matrizes de mesmo tamanho e \n",
    "# é a soma de cada espaço individualmente\n",
    "def soma_matrizes(A:list[list[int]], B:list[list[int]]) -> list[list[int]]:\n",
    "    if len(A) != len(B) or len(A[0]) != len(B[0]):\n",
    "        return None\n",
    "    C= [[0] * len(A[0]) for z in range(len(A))]\n",
    "    for i in range(len(A)):\n",
    "        for j in range(len(A[0])):\n",
    "            C[i][j]=A[i][j] + B[i][j]\n",
    "    return C\n",
    "#A subtração de matrizes pode ser entendida como a soma de A pelo inverso de B, \n",
    "# ou seja A + (-B)\n",
    "def sub_matrizes(A:list[list[int]], B:list[list[int]]) -> list[list[int]]:\n",
    "    if len(A) != len(B) or len(A[0]) != len(B[0]):\n",
    "        return None\n",
    "    C= [[0] * len(A[0]) for z in range(len(A))]\n",
    "    for i in range(len(A)):\n",
    "        for j in range(len(A[0])):\n",
    "            C[i][j]=A[i][j] - B[i][j]\n",
    "    return C"
   ]
  },
  {
   "cell_type": "code",
   "execution_count": 5,
   "metadata": {},
   "outputs": [
    {
     "data": {
      "text/plain": [
       "[[55, 59, 55, 84, 39],\n",
       " [14, 63, 77, 56, 50],\n",
       " [32, 41, 80, 35, 50],\n",
       " [43, 62, 54, 34, 58]]"
      ]
     },
     "execution_count": 5,
     "metadata": {},
     "output_type": "execute_result"
    }
   ],
   "source": [
    "#Exemplo de soma de matrizes\n",
    "mat1=geramatriz(4,5,True)\n",
    "mat2=geramatriz(4,5,True)\n",
    "soma_matrizes(mat1,mat2)"
   ]
  },
  {
   "cell_type": "code",
   "execution_count": 7,
   "metadata": {},
   "outputs": [
    {
     "name": "stdout",
     "output_type": "stream",
     "text": [
      "[[28 49  3 13 39  5 11  3 43  5]\n",
      " [32 36  1  5 20 49 19 24 37 45]] \n",
      "\n",
      "[[56 98  6 26 78 10 22  6 86 10]\n",
      " [64 72  2 10 40 98 38 48 74 90]] \n",
      "\n",
      "[[14.  24.5  1.5  6.5 19.5  2.5  5.5  1.5 21.5  2.5]\n",
      " [16.  18.   0.5  2.5 10.  24.5  9.5 12.  18.5 22.5]] \n",
      "\n"
     ]
    }
   ],
   "source": [
    "#A multiplicação da matriz por um número é a multiplicação de cada termo pelo valor\n",
    "mat=np.random.randint(0,50,20).reshape(2,10)\n",
    "print(mat,'\\n')\n",
    "print(mat*2,'\\n')\n",
    "\n",
    "print(mat/2,'\\n')"
   ]
  },
  {
   "cell_type": "code",
   "execution_count": null,
   "metadata": {},
   "outputs": [],
   "source": [
    "#Produto de duas matrizes\n"
   ]
  }
 ],
 "metadata": {
  "interpreter": {
   "hash": "9c464d06a4b2d4767f115b1ab41e495990683f3b61f9428babbb6293818e2cac"
  },
  "kernelspec": {
   "display_name": "Python 3.10.0 64-bit",
   "name": "python3"
  },
  "language_info": {
   "codemirror_mode": {
    "name": "ipython",
    "version": 3
   },
   "file_extension": ".py",
   "mimetype": "text/x-python",
   "name": "python",
   "nbconvert_exporter": "python",
   "pygments_lexer": "ipython3",
   "version": "3.10.0"
  },
  "orig_nbformat": 4
 },
 "nbformat": 4,
 "nbformat_minor": 2
}
