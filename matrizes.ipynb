{
 "cells": [
  {
   "cell_type": "code",
   "execution_count": 20,
   "metadata": {},
   "outputs": [],
   "source": [
    "import numpy as np"
   ]
  },
  {
   "cell_type": "code",
   "execution_count": 13,
   "metadata": {},
   "outputs": [],
   "source": [
    "#Criando uma matriz Python\n",
    "\n",
    "def geramatriz(l=2, c=2,rand=False,r1=0,r2=50):\n",
    "    '''\n",
    "    :param l: Linhas\n",
    "    :param c: Colunas\n",
    "    :return: A matriz gerada com o valor escolhido\n",
    "    '''\n",
    "    mat = [[0] * c for z in range(l)]\n",
    "    if rand:\n",
    "        return preenchematriz(mat, r1, r2)\n",
    "    return mat\n",
    "\n",
    "#preenchendo a matriz \n",
    "\n",
    "def preenchematriz(mat, r1=0, r2=50):\n",
    "    from random import randint\n",
    "    '''\n",
    "    :param mat: Qual matriz\n",
    "    :param r1: valor minimo\n",
    "    :param r2: valor máximo\n",
    "    :return: a matriz preenchida\n",
    "    '''\n",
    "    for j in range(len(mat[0])):\n",
    "        for k in range(len(mat)):\n",
    "            mat[k][j] = randint(r1, r2)\n",
    "    return mat"
   ]
  },
  {
   "cell_type": "code",
   "execution_count": 21,
   "metadata": {},
   "outputs": [],
   "source": [
    "#A soma de matrizes ocorre apenas entre matrizes de mesmo tamanho e \n",
    "# é a soma de cada espaço individualmente\n",
    "def soma_matrizes(A:list[list[int]], B:list[list[int]]) -> list[list[int]]:\n",
    "    if len(A) != len(B) or len(A[0]) != len(B[0]):\n",
    "        return None\n",
    "    C= [[0] * len(A[0]) for z in range(len(A))]\n",
    "    for i in range(len(A)):\n",
    "        for j in range(len(A[0])):\n",
    "            C[i][j]=A[i][j] + B[i][j]\n",
    "    return C\n",
    "#A subtração de matrizes pode ser entendida como a soma de A pelo inverso de B, \n",
    "# ou seja A + (-B)\n",
    "def sub_matrizes(A:list[list[int]], B:list[list[int]]) -> list[list[int]]:\n",
    "    if len(A) != len(B) or len(A[0]) != len(B[0]):\n",
    "        return None\n",
    "    C= [[0] * len(A[0]) for z in range(len(A))]\n",
    "    for i in range(len(A)):\n",
    "        for j in range(len(A[0])):\n",
    "            C[i][j]=A[i][j] - B[i][j]\n",
    "    return C"
   ]
  },
  {
   "cell_type": "code",
   "execution_count": 19,
   "metadata": {},
   "outputs": [
    {
     "data": {
      "text/plain": [
       "[[29, 75, 62, 35, 34],\n",
       " [34, 69, 38, 52, 84],\n",
       " [41, 67, 4, 45, 72],\n",
       " [8, 33, 68, 55, 60]]"
      ]
     },
     "execution_count": 19,
     "metadata": {},
     "output_type": "execute_result"
    }
   ],
   "source": [
    "#Exemplo de soma de matrizes\n",
    "mat1=geramatriz(4,5,True)\n",
    "mat2=geramatriz(4,5,True)\n",
    "soma_matrizes(mat1,mat2)"
   ]
  },
  {
   "cell_type": "code",
   "execution_count": 26,
   "metadata": {},
   "outputs": [
    {
     "name": "stdout",
     "output_type": "stream",
     "text": [
      "[[43 10  5 14 28  5 37 37 19 37]\n",
      " [30 20  1 37  5 42 38 41 29 27]]\n"
     ]
    },
    {
     "data": {
      "text/plain": [
       "array([[86, 20, 10, 28, 56, 10, 74, 74, 38, 74],\n",
       "       [60, 40,  2, 74, 10, 84, 76, 82, 58, 54]])"
      ]
     },
     "execution_count": 26,
     "metadata": {},
     "output_type": "execute_result"
    }
   ],
   "source": [
    "#A multiplicação da matriz por um número é a multiplicação de cada termo pelo valor\n",
    "mat=np.random.randint(0,50,20).reshape(2,10)\n",
    "print(mat)\n",
    "mat*2"
   ]
  }
 ],
 "metadata": {
  "interpreter": {
   "hash": "9c464d06a4b2d4767f115b1ab41e495990683f3b61f9428babbb6293818e2cac"
  },
  "kernelspec": {
   "display_name": "Python 3.10.0 64-bit",
   "name": "python3"
  },
  "language_info": {
   "codemirror_mode": {
    "name": "ipython",
    "version": 3
   },
   "file_extension": ".py",
   "mimetype": "text/x-python",
   "name": "python",
   "nbconvert_exporter": "python",
   "pygments_lexer": "ipython3",
   "version": "3.10.0"
  },
  "orig_nbformat": 4
 },
 "nbformat": 4,
 "nbformat_minor": 2
}
